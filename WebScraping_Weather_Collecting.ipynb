{
 "cells": [
  {
   "cell_type": "code",
   "execution_count": null,
   "metadata": {},
   "outputs": [],
   "source": [
    "# Import libraries\n",
    "import numpy as np\n",
    "import pandas as pd\n",
    "import urllib.request \n",
    "from bs4 import BeautifulSoup\n",
    "import requests as req\n",
    "from bs4 import Tag\n",
    "from datetime import datetime, timedelta"
   ]
  },
  {
   "cell_type": "code",
   "execution_count": null,
   "metadata": {},
   "outputs": [],
   "source": [
    "#URL Parameters\n",
    "quote_page = 'https://www.tmd.go.th/climate/climate.php?FileID=1' "
   ]
  },
  {
   "cell_type": "code",
   "execution_count": null,
   "metadata": {},
   "outputs": [],
   "source": [
    "url_page = urllib.request.urlopen(quote_page) "
   ]
  },
  {
   "cell_type": "code",
   "execution_count": null,
   "metadata": {},
   "outputs": [],
   "source": [
    "html_script  = BeautifulSoup(url_page, 'html.parser')"
   ]
  },
  {
   "cell_type": "code",
   "execution_count": null,
   "metadata": {},
   "outputs": [],
   "source": [
    "html_script"
   ]
  },
  {
   "cell_type": "code",
   "execution_count": null,
   "metadata": {},
   "outputs": [],
   "source": [
    "province = []\n",
    "temperature_high = []\n",
    "temperature_low =[]\n",
    "wind_direction = []\n",
    "wind_speed = []\n",
    "weather_time = []\n",
    "rain = []\n",
    "rain_accumulation = []\n",
    "\n",
    "# Loop ('tr', { 'class':  ['RADS','RDS']}) to extract td element within\n",
    "for tr_element in html_script.find_all('tr', { 'class':  ['RADS','RDS']}): \n",
    "    td_element=tr_element.find_all(\"td\")   \n",
    "    \n",
    "    all_temp = []\n",
    "    \n",
    "    for i in range(len(td_element)):\n",
    "        # <td colspan=x> means x number of Null values   \n",
    "        if td_element[i].get('colspan'):\n",
    "            empty = [np.nan] * (int(td_element[i].get('colspan'))) # Assign x number of Null\n",
    "            all_temp = all_temp + empty\n",
    "        else:\n",
    "            element = [td_element[i].text]\n",
    "            all_temp = all_temp + element\n",
    "    \n",
    "    # Append each element to each attribute\n",
    "    province.append(all_temp[0])\n",
    "    temperature_high.append(all_temp[1])\n",
    "    temperature_low.append(all_temp[2])\n",
    "    wind_direction.append(all_temp[3])\n",
    "    wind_speed.append(all_temp[4])\n",
    "    weather_time.append(all_temp[5])\n",
    "    rain.append(all_temp[6])\n",
    "    rain_accumulation.append(all_temp[7])"
   ]
  },
  {
   "cell_type": "code",
   "execution_count": null,
   "metadata": {},
   "outputs": [],
   "source": [
    "# Combine attributes to a dataframe\n",
    "yesterday_weather = pd.DataFrame({'province':province,'temperature_high':temperature_high,'temperature_low':temperature_low,'wind_direction':wind_direction,'wind_speed':wind_speed,'weather_time':weather_time,'rain':rain,'rain_accumulation':rain_accumulation})    "
   ]
  },
  {
   "cell_type": "code",
   "execution_count": null,
   "metadata": {},
   "outputs": [],
   "source": [
    "yesterday_weather"
   ]
  },
  {
   "cell_type": "code",
   "execution_count": null,
   "metadata": {},
   "outputs": [],
   "source": []
  }
 ],
 "metadata": {
  "kernelspec": {
   "display_name": "Python 3",
   "language": "python",
   "name": "python3"
  },
  "language_info": {
   "codemirror_mode": {
    "name": "ipython",
    "version": 3
   },
   "file_extension": ".py",
   "mimetype": "text/x-python",
   "name": "python",
   "nbconvert_exporter": "python",
   "pygments_lexer": "ipython3",
   "version": "3.7.3"
  }
 },
 "nbformat": 4,
 "nbformat_minor": 4
}
